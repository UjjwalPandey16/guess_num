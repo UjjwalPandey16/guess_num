{
 "cells": [
  {
   "cell_type": "code",
   "execution_count": null,
   "metadata": {},
   "outputs": [],
   "source": [
    "import random\n",
    "name = input(\"Enter your name\")\n",
    "print(\"Good Luck!\", name)\n",
    "def select_character():\n",
    "    characters = ['Mario', 'Luigi', 'Pikachu', 'Sonic', 'Link']\n",
    "    return random.choice(characters)\n",
    "\n",
    "def play_game():\n",
    "    character = select_character()\n",
    "    guesses = 12\n",
    "    guessed_letters = []\n",
    "    guessed_word = '_' * len(character)\n",
    "\n",
    "    while guesses > 0:\n",
    "        print('\\nGuessed Word:', ' '.join(guessed_word))\n",
    "        print('Guesses Left:', guesses)\n",
    "\n",
    "        guess = input('Enter a letter or the full character guess: ').lower()\n",
    "\n",
    "        if guess in guessed_letters:\n",
    "            print('You already guessed that letter. Try again!')\n",
    "            continue\n",
    "\n",
    "        if len(guess) == 1:  # Letter guess\n",
    "            guessed_letters.append(guess)\n",
    "\n",
    "            if guess in character:\n",
    "                for i in range(len(character)):\n",
    "                    if character[i] == guess:\n",
    "                        guessed_word = guessed_word[:i] + guess + guessed_word[i+1:]\n",
    "                \n",
    "                if '_' not in guessed_word:\n",
    "                    print('Congratulations! You guessed the character:', character)\n",
    "                    break\n",
    "            else:\n",
    "                print('Incorrect guess.')\n",
    "                guesses -= 1\n",
    "        else:  # Full character guess\n",
    "            if guess == character.lower():\n",
    "                print('Congratulations! You guessed the character:', character)\n",
    "            else:\n",
    "                print('Incorrect guess.')\n",
    "                guesses -= 1\n",
    "\n",
    "    if guesses == 0:\n",
    "        print('Game over! The character was:', character)\n",
    "\n",
    "play_game()\n"
   ]
  }
 ],
 "metadata": {
  "language_info": {
   "name": "python"
  },
  "orig_nbformat": 4
 },
 "nbformat": 4,
 "nbformat_minor": 2
}
